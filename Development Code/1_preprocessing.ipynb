{
 "cells": [
  {
   "cell_type": "code",
   "execution_count": 11,
   "id": "44bcaabb-fb0d-486c-bf27-43907c2e5afb",
   "metadata": {
    "tags": []
   },
   "outputs": [],
   "source": [
    "import pandas as pd\n",
    "from google.cloud import storage\n",
    "from pandas_gbq import to_gbq"
   ]
  },
  {
   "cell_type": "code",
   "execution_count": 2,
   "id": "5b99312e-385e-4f8d-8ee4-64065602a99a",
   "metadata": {
    "tags": []
   },
   "outputs": [],
   "source": [
    "df = pd.read_csv('Marvel_Comics.csv')"
   ]
  },
  {
   "cell_type": "code",
   "execution_count": 3,
   "id": "23d0af73-ac99-462c-8932-fd65f764a183",
   "metadata": {
    "tags": []
   },
   "outputs": [
    {
     "name": "stdout",
     "output_type": "stream",
     "text": [
      "<class 'pandas.core.frame.DataFrame'>\n",
      "RangeIndex: 34992 entries, 0 to 34991\n",
      "Data columns (total 12 columns):\n",
      " #   Column             Non-Null Count  Dtype \n",
      "---  ------             --------------  ----- \n",
      " 0   comic_name         34992 non-null  object\n",
      " 1   active_years       34992 non-null  object\n",
      " 2   issue_title        34466 non-null  object\n",
      " 3   publish_date       34466 non-null  object\n",
      " 4   issue_description  30395 non-null  object\n",
      " 5   penciler           25482 non-null  object\n",
      " 6   writer             27595 non-null  object\n",
      " 7   cover_artist       12255 non-null  object\n",
      " 8   Imprint            11684 non-null  object\n",
      " 9   Format             32894 non-null  object\n",
      " 10  Rating             12619 non-null  object\n",
      " 11  Price              32894 non-null  object\n",
      "dtypes: object(12)\n",
      "memory usage: 3.2+ MB\n"
     ]
    }
   ],
   "source": [
    "df.info()"
   ]
  },
  {
   "cell_type": "code",
   "execution_count": 4,
   "id": "78f76194-eadb-4db4-80ba-1f847302a8ab",
   "metadata": {
    "tags": []
   },
   "outputs": [
    {
     "data": {
      "text/plain": [
       "Rating\n",
       "Rated T+                              3204\n",
       "T                                     1564\n",
       "Rated T                               1407\n",
       "Parental Advisory                     1205\n",
       "T+                                    1000\n",
       "All Ages                               893\n",
       "A                                      635\n",
       "Marvel Psr                             534\n",
       "MARVEL PSR                             526\n",
       "ALL AGES                               304\n",
       "PARENTAL ADVISORY                      207\n",
       "RATED T+                               206\n",
       "Rated a                                135\n",
       "EXPLICIT CONTENT                       110\n",
       "RATED A                                105\n",
       "No Rating                              100\n",
       "RATED T                                 86\n",
       "PARENTAL ADVISORY/EXPLICIT CONTENT      70\n",
       "Parental Advisory/Explicit Content      69\n",
       "Mature                                  44\n",
       "Explicit Content                        39\n",
       "Max                                     28\n",
       "Rated A                                 28\n",
       "PARENTAL ADVISORYSLC                    25\n",
       "NOT IN ORACLE                           20\n",
       "MARVEL PSR+                             18\n",
       "Parental Guidance                       15\n",
       "Parental AdvisorySLC                    11\n",
       "Parental Advisoryslc                     8\n",
       "Not in Oracle                            7\n",
       "MAX                                      6\n",
       "PARENTAL SUPERVISION                     3\n",
       "Marvel Psr+                              3\n",
       "NO RATING                                2\n",
       "Ages 10 & Up                             1\n",
       "Ages 9+                                  1\n",
       "Name: count, dtype: int64"
      ]
     },
     "execution_count": 4,
     "metadata": {},
     "output_type": "execute_result"
    }
   ],
   "source": [
    "df['Rating'].value_counts()"
   ]
  },
  {
   "cell_type": "code",
   "execution_count": 5,
   "id": "c7cac722-3e63-4a4b-be53-ea94b56d16b7",
   "metadata": {
    "tags": []
   },
   "outputs": [
    {
     "name": "stdout",
     "output_type": "stream",
     "text": [
      "<class 'pandas.core.frame.DataFrame'>\n",
      "RangeIndex: 34992 entries, 0 to 34991\n",
      "Data columns (total 12 columns):\n",
      " #   Column             Non-Null Count  Dtype \n",
      "---  ------             --------------  ----- \n",
      " 0   comic_name         34992 non-null  object\n",
      " 1   active_years       34992 non-null  object\n",
      " 2   issue_title        34992 non-null  object\n",
      " 3   publish_date       34992 non-null  object\n",
      " 4   issue_description  34992 non-null  object\n",
      " 5   penciler           34992 non-null  object\n",
      " 6   writer             34992 non-null  object\n",
      " 7   cover_artist       34992 non-null  object\n",
      " 8   Imprint            34992 non-null  object\n",
      " 9   Format             34992 non-null  object\n",
      " 10  Rating             34992 non-null  object\n",
      " 11  Price              34992 non-null  object\n",
      "dtypes: object(12)\n",
      "memory usage: 3.2+ MB\n"
     ]
    }
   ],
   "source": [
    "# Loop tiap kolom dan isi Null values\n",
    "for col in df.columns:\n",
    "    if df[col].dtype == 'object':  # hanya kolom bertipe string/object\n",
    "        df[col] = df[col].fillna('Not Provided')\n",
    "        \n",
    "df.info()"
   ]
  },
  {
   "cell_type": "code",
   "execution_count": 7,
   "id": "ff0686d0-73bb-45db-8d7b-8637c8321c72",
   "metadata": {
    "tags": []
   },
   "outputs": [],
   "source": [
    "# Simpan hasilnya\n",
    "df.to_csv('data_cleaned.csv', index=False)"
   ]
  },
  {
   "cell_type": "code",
   "execution_count": 10,
   "id": "70e1106d-bfae-46ff-9079-9acb60bda8f0",
   "metadata": {
    "tags": []
   },
   "outputs": [
    {
     "name": "stdout",
     "output_type": "stream",
     "text": [
      "File 'data_cleaned.csv' berhasil diupload ke 'gs://sandbox-buckets-trial/processed/data_cleaned.csv'\n"
     ]
    }
   ],
   "source": [
    "def upload_to_gcs(bucket_name, source_file_path, destination_blob_path):\n",
    "    # Inisialisasi client GCS\n",
    "    client = storage.Client()\n",
    "    \n",
    "    # Ambil bucket-nya\n",
    "    bucket = client.bucket(bucket_name)\n",
    "    \n",
    "    # Tentukan blob tujuan\n",
    "    blob = bucket.blob(destination_blob_path)\n",
    "    \n",
    "    # Upload file dari lokal\n",
    "    blob.upload_from_filename(source_file_path)\n",
    "\n",
    "    print(f\"File '{source_file_path}' berhasil diupload ke 'gs://{bucket_name}/{destination_blob_path}'\")\n",
    "    \n",
    "upload_to_gcs(\n",
    "    bucket_name=\"sandbox-buckets-trial\",\n",
    "    source_file_path=\"data_cleaned.csv\",\n",
    "    destination_blob_path=\"processed/data_cleaned.csv\"\n",
    ")"
   ]
  },
  {
   "cell_type": "code",
   "execution_count": 12,
   "id": "922fb965-106f-463b-9ba0-028b3970e10c",
   "metadata": {
    "tags": []
   },
   "outputs": [
    {
     "name": "stderr",
     "output_type": "stream",
     "text": [
      "100%|██████████| 1/1 [00:00<00:00, 7157.52it/s]"
     ]
    },
    {
     "name": "stdout",
     "output_type": "stream",
     "text": [
      "Data berhasil diupload ke BigQuery!\n"
     ]
    },
    {
     "name": "stderr",
     "output_type": "stream",
     "text": [
      "\n"
     ]
    }
   ],
   "source": [
    "# Set nama tabel tujuan di BigQuery\n",
    "dataset_id = \"sandbox\"\n",
    "table_id = f\"{dataset_id}.marvel_comics\"   # tanpa project ID di sini\n",
    "project_id = \"poc-mulia-ceramics-ai\"\n",
    "\n",
    "# Upload ke BigQuery\n",
    "to_gbq(\n",
    "    dataframe=df,\n",
    "    destination_table=table_id,\n",
    "    project_id=project_id,\n",
    "    if_exists=\"replace\"  # opsi: 'fail', 'replace', 'append'\n",
    ")\n",
    "\n",
    "print(\"Data berhasil diupload ke BigQuery!\")"
   ]
  },
  {
   "cell_type": "code",
   "execution_count": null,
   "id": "8324eba9-5a1d-4178-b9f0-04b89ec9369f",
   "metadata": {},
   "outputs": [],
   "source": []
  }
 ],
 "metadata": {
  "environment": {
   "kernel": "conda-base-py",
   "name": "workbench-notebooks.m129",
   "type": "gcloud",
   "uri": "us-docker.pkg.dev/deeplearning-platform-release/gcr.io/workbench-notebooks:m129"
  },
  "kernelspec": {
   "display_name": "Python 3 (ipykernel) (Local)",
   "language": "python",
   "name": "conda-base-py"
  },
  "language_info": {
   "codemirror_mode": {
    "name": "ipython",
    "version": 3
   },
   "file_extension": ".py",
   "mimetype": "text/x-python",
   "name": "python",
   "nbconvert_exporter": "python",
   "pygments_lexer": "ipython3",
   "version": "3.10.16"
  }
 },
 "nbformat": 4,
 "nbformat_minor": 5
}
